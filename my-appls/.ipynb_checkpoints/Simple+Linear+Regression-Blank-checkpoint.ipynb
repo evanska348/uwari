{
 "cells": [
  {
   "cell_type": "markdown",
   "metadata": {},
   "source": [
    "# Simple Linear Regression\n",
    "*Some code adapted from Michael Freeman and Li Zeng.\n",
    "\n",
    "\n",
    "Let's begin by reading in some data from this course website: http://data.princeton.edu/wws509/datasets/#salary"
   ]
  },
  {
   "cell_type": "code",
   "execution_count": 43,
   "metadata": {},
   "outputs": [
    {
     "name": "stdout",
     "output_type": "stream",
     "text": [
      "        sx         rk  yr         dg  yd     sl\n",
      "0     male       full  25  doctorate  35  36350\n",
      "1     male       full  13  doctorate  22  35350\n",
      "2     male       full  10  doctorate  23  28200\n",
      "3   female       full   7  doctorate  27  26775\n",
      "4     male       full  19    masters  30  33696\n",
      "5     male       full  16  doctorate  21  28516\n",
      "6   female       full   0    masters  32  24900\n",
      "7     male       full  16  doctorate  18  31909\n",
      "8     male       full  13    masters  30  31850\n",
      "9     male       full  13    masters  31  32850\n",
      "10    male       full  12  doctorate  22  27025\n",
      "11    male  associate  15  doctorate  19  24750\n",
      "12    male       full   9  doctorate  17  28200\n",
      "13    male  associate   9    masters  27  23712\n",
      "14    male       full   9  doctorate  24  25748\n",
      "15    male       full   7  doctorate  15  29342\n",
      "16    male       full  13  doctorate  20  31114\n",
      "17    male  associate  11    masters  14  24742\n",
      "18    male  associate  10    masters  15  22906\n",
      "19    male       full   6    masters  21  24450\n",
      "20    male  assistant  16    masters  23  19175\n",
      "21    male  associate   8    masters  31  20525\n",
      "22    male       full   7  doctorate  13  27959\n",
      "23  female       full   8  doctorate  24  38045\n",
      "24    male  associate   9  doctorate  12  24832\n",
      "25    male       full   5  doctorate  18  25400\n",
      "26    male  associate  11  doctorate  14  24800\n",
      "27  female       full   5  doctorate  16  25500\n",
      "28    male  associate   3    masters   7  26182\n",
      "29    male  associate   3    masters  17  23725\n",
      "30  female  assistant  10    masters  15  21600\n",
      "31    male  associate  11    masters  31  23300\n",
      "32    male  assistant   9    masters  14  23713\n",
      "33  female  associate   4    masters  33  20690\n",
      "34  female  associate   6    masters  29  22450\n",
      "35    male  associate   1  doctorate   9  20850\n",
      "36  female  assistant   8  doctorate  14  18304\n",
      "37    male  assistant   4  doctorate   4  17095\n",
      "38    male  assistant   4  doctorate   5  16700\n",
      "39    male  assistant   4  doctorate   4  17600\n",
      "40    male  assistant   3  doctorate   4  18075\n",
      "41    male  assistant   3    masters  11  18000\n",
      "42    male  associate   0  doctorate   7  20999\n",
      "43  female  assistant   3  doctorate   3  17250\n",
      "44    male  assistant   2  doctorate   3  16500\n",
      "45    male  assistant   2  doctorate   1  16094\n",
      "46  female  assistant   2  doctorate   6  16150\n",
      "47  female  assistant   2  doctorate   2  15350\n",
      "48    male  assistant   1  doctorate   1  16244\n",
      "49  female  assistant   1  doctorate   1  16686\n",
      "50  female  assistant   1  doctorate   1  15000\n",
      "51  female  assistant   0  doctorate   2  20300\n"
     ]
    }
   ],
   "source": [
    "import pandas as pd\n",
    "import numpy as np\n",
    "import matplotlib.pyplot as plt\n",
    "data = pd.read_csv(\"http://data.princeton.edu/wws509/datasets/salary.dat\", delim_whitespace=True)\n",
    "print(data)"
   ]
  },
  {
   "cell_type": "code",
   "execution_count": 44,
   "metadata": {},
   "outputs": [],
   "source": [
    "# The data of interest can be found at: http://data.princeton.edu/wws509/datasets/salary.dat"
   ]
  },
  {
   "cell_type": "markdown",
   "metadata": {},
   "source": [
    "#### Is the data clean and ready for analysis?"
   ]
  },
  {
   "cell_type": "code",
   "execution_count": null,
   "metadata": {},
   "outputs": [],
   "source": []
  },
  {
   "cell_type": "markdown",
   "metadata": {},
   "source": [
    "#### What is the salary increase associated with each additional year in current academic position (yr)?¶"
   ]
  },
  {
   "cell_type": "code",
   "execution_count": 45,
   "metadata": {},
   "outputs": [
    {
     "name": "stdout",
     "output_type": "stream",
     "text": [
      "752.7977574182964\n",
      "18166.147545466974\n"
     ]
    }
   ],
   "source": [
    "df = pd.DataFrame(data)\n",
    "m,b = np.polyfit(data.yr, data.sl, 1)\n",
    "print(m)\n",
    "print(b)"
   ]
  },
  {
   "cell_type": "markdown",
   "metadata": {},
   "source": [
    "#### How would you interpret the results of the fitted model?"
   ]
  },
  {
   "cell_type": "markdown",
   "metadata": {},
   "source": []
  },
  {
   "cell_type": "markdown",
   "metadata": {},
   "source": [
    "#### Draw a scatterplot with your best fit line to show how well the model fits our data"
   ]
  },
  {
   "cell_type": "code",
   "execution_count": 54,
   "metadata": {},
   "outputs": [
    {
     "data": {
      "image/png": "[encoded data removed]",
      "text/plain": [
       "<Figure size 432x288 with 1 Axes>"
      ]
     },
     "metadata": {
      "needs_background": "light"
     },
     "output_type": "display_data"
    }
   ],
   "source": [
    "plt.scatter(data.yr,data.sl)\n",
    "X_plot = np.linspace(0,30)\n",
    "plt.plot(X_plot, X_plot*m + b)\n",
    "plt.show()"
   ]
  },
  {
   "cell_type": "markdown",
   "metadata": {},
   "source": [
    "#### Create a multiple linear model with salary as a response and yr, dg and rk as predictors"
   ]
  },
  {
   "cell_type": "code",
   "execution_count": null,
   "metadata": {},
   "outputs": [],
   "source": []
  },
  {
   "cell_type": "markdown",
   "metadata": {},
   "source": [
    "#### Plot two residual plots: one for the previous SLR model and the other for the multiple regression model. Based on residual plots and model summary, compare the models and describe your findings."
   ]
  },
  {
   "cell_type": "code",
   "execution_count": null,
   "metadata": {
    "collapsed": true
   },
   "outputs": [],
   "source": []
  }
 ],
 "metadata": {
  "kernelspec": {
   "display_name": "Python 3",
   "language": "python",
   "name": "python3"
  },
  "language_info": {
   "codemirror_mode": {
    "name": "ipython",
    "version": 3
   },
   "file_extension": ".py",
   "mimetype": "text/x-python",
   "name": "python",
   "nbconvert_exporter": "python",
   "pygments_lexer": "ipython3",
   "version": "3.7.0"
  }
 },
 "nbformat": 4,
 "nbformat_minor": 1
}
